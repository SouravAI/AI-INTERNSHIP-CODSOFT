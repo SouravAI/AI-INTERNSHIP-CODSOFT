{
 "cells": [
  {
   "cell_type": "code",
   "execution_count": 1,
   "id": "7aca8472-df4d-4066-8742-347f3fc7498d",
   "metadata": {},
   "outputs": [],
   "source": [
    "import pandas as pd\n",
    "import numpy as np\n",
    "from sklearn.metrics.pairwise import pairwise_distances"
   ]
  },
  {
   "cell_type": "code",
   "execution_count": 2,
   "id": "678d30a6-adcc-4bb8-9f77-10329ae51ad2",
   "metadata": {},
   "outputs": [
    {
     "data": {
      "text/html": [
       "<div>\n",
       "<style scoped>\n",
       "    .dataframe tbody tr th:only-of-type {\n",
       "        vertical-align: middle;\n",
       "    }\n",
       "\n",
       "    .dataframe tbody tr th {\n",
       "        vertical-align: top;\n",
       "    }\n",
       "\n",
       "    .dataframe thead th {\n",
       "        text-align: right;\n",
       "    }\n",
       "</style>\n",
       "<table border=\"1\" class=\"dataframe\">\n",
       "  <thead>\n",
       "    <tr style=\"text-align: right;\">\n",
       "      <th></th>\n",
       "      <th>user_id</th>\n",
       "      <th>item_id</th>\n",
       "      <th>rating</th>\n",
       "      <th>timestamp</th>\n",
       "    </tr>\n",
       "  </thead>\n",
       "  <tbody>\n",
       "    <tr>\n",
       "      <th>0</th>\n",
       "      <td>196</td>\n",
       "      <td>242</td>\n",
       "      <td>3</td>\n",
       "      <td>881250949</td>\n",
       "    </tr>\n",
       "    <tr>\n",
       "      <th>1</th>\n",
       "      <td>186</td>\n",
       "      <td>302</td>\n",
       "      <td>3</td>\n",
       "      <td>891717742</td>\n",
       "    </tr>\n",
       "    <tr>\n",
       "      <th>2</th>\n",
       "      <td>22</td>\n",
       "      <td>377</td>\n",
       "      <td>1</td>\n",
       "      <td>878887116</td>\n",
       "    </tr>\n",
       "    <tr>\n",
       "      <th>3</th>\n",
       "      <td>244</td>\n",
       "      <td>51</td>\n",
       "      <td>2</td>\n",
       "      <td>880606923</td>\n",
       "    </tr>\n",
       "    <tr>\n",
       "      <th>4</th>\n",
       "      <td>166</td>\n",
       "      <td>346</td>\n",
       "      <td>1</td>\n",
       "      <td>886397596</td>\n",
       "    </tr>\n",
       "  </tbody>\n",
       "</table>\n",
       "</div>"
      ],
      "text/plain": [
       "   user_id  item_id  rating  timestamp\n",
       "0      196      242       3  881250949\n",
       "1      186      302       3  891717742\n",
       "2       22      377       1  878887116\n",
       "3      244       51       2  880606923\n",
       "4      166      346       1  886397596"
      ]
     },
     "execution_count": 2,
     "metadata": {},
     "output_type": "execute_result"
    }
   ],
   "source": [
    "header = ['user_id', 'item_id', 'rating', 'timestamp']\n",
    "movielens_data = pd.read_csv(\"u.data\", sep='\\t', names=header)\n",
    "movielens_data.head()"
   ]
  },
  {
   "cell_type": "code",
   "execution_count": 3,
   "id": "35c1cee8-4d63-4c48-9183-14e720bc109a",
   "metadata": {},
   "outputs": [
    {
     "data": {
      "text/plain": [
       "(100000, 4)"
      ]
     },
     "execution_count": 3,
     "metadata": {},
     "output_type": "execute_result"
    }
   ],
   "source": [
    "movielens_data.shape"
   ]
  },
  {
   "cell_type": "code",
   "execution_count": 4,
   "id": "ccb0ae7c-f9f3-4f0e-a178-c07c47c6f1bf",
   "metadata": {},
   "outputs": [
    {
     "data": {
      "text/plain": [
       "(943, 1682)"
      ]
     },
     "execution_count": 4,
     "metadata": {},
     "output_type": "execute_result"
    }
   ],
   "source": [
    "n_users, n_movies  = movielens_data['user_id'].nunique(), movielens_data['item_id'].nunique()\n",
    "n_users, n_movies"
   ]
  },
  {
   "cell_type": "code",
   "execution_count": 5,
   "id": "90b85f70-ab33-4d8d-8c76-8ccdf0bf9a82",
   "metadata": {},
   "outputs": [
    {
     "data": {
      "text/plain": [
       "(943, 1682)"
      ]
     },
     "execution_count": 5,
     "metadata": {},
     "output_type": "execute_result"
    }
   ],
   "source": [
    "train_data_matrix = np.zeros((n_users, n_movies))\n",
    "\n",
    "for line in movielens_data.itertuples():\n",
    "    train_data_matrix[line[1]-1, line[2]-1] = line[3]\n",
    "    \n",
    "train_data_matrix.shape"
   ]
  },
  {
   "cell_type": "code",
   "execution_count": 6,
   "id": "a2f5df4f-d650-46bd-8336-8812c2f618f9",
   "metadata": {},
   "outputs": [
    {
     "data": {
      "text/plain": [
       "array([[5., 3., 4., ..., 0., 0., 0.],\n",
       "       [4., 0., 0., ..., 0., 0., 0.],\n",
       "       [0., 0., 0., ..., 0., 0., 0.],\n",
       "       ...,\n",
       "       [5., 0., 0., ..., 0., 0., 0.],\n",
       "       [0., 0., 0., ..., 0., 0., 0.],\n",
       "       [0., 5., 0., ..., 0., 0., 0.]])"
      ]
     },
     "execution_count": 6,
     "metadata": {},
     "output_type": "execute_result"
    }
   ],
   "source": [
    "train_data_matrix"
   ]
  },
  {
   "cell_type": "code",
   "execution_count": 7,
   "id": "dd151c77-9696-47ca-b12e-5a12415c0243",
   "metadata": {},
   "outputs": [
    {
     "data": {
      "text/plain": [
       "((943, 943), (1682, 1682))"
      ]
     },
     "execution_count": 7,
     "metadata": {},
     "output_type": "execute_result"
    }
   ],
   "source": [
    "user_distances = pairwise_distances(train_data_matrix, metric=\"cosine\")\n",
    "\n",
    "# \".T\" below is to transpose our 2D matrix.\n",
    "train_data_matrix_transpose = train_data_matrix.T\n",
    "movie_distances = pairwise_distances(train_data_matrix_transpose, metric=\"cosine\")\n",
    "\n",
    "user_distances.shape, movie_distances.shape"
   ]
  },
  {
   "cell_type": "code",
   "execution_count": 8,
   "id": "90a74151-581e-4f46-97c2-f64bdfc960ec",
   "metadata": {},
   "outputs": [
    {
     "data": {
      "text/plain": [
       "array([[0.        , 0.83306902, 0.95254046, ..., 0.85138306, 0.82049212,\n",
       "        0.60182526],\n",
       "       [0.83306902, 0.        , 0.88940868, ..., 0.83851522, 0.82773219,\n",
       "        0.89420212],\n",
       "       [0.95254046, 0.88940868, 0.        , ..., 0.89875744, 0.86658385,\n",
       "        0.97344413],\n",
       "       ...,\n",
       "       [0.85138306, 0.83851522, 0.89875744, ..., 0.        , 0.8983582 ,\n",
       "        0.90488042],\n",
       "       [0.82049212, 0.82773219, 0.86658385, ..., 0.8983582 , 0.        ,\n",
       "        0.81753534],\n",
       "       [0.60182526, 0.89420212, 0.97344413, ..., 0.90488042, 0.81753534,\n",
       "        0.        ]])"
      ]
     },
     "execution_count": 8,
     "metadata": {},
     "output_type": "execute_result"
    }
   ],
   "source": [
    "user_distances"
   ]
  },
  {
   "cell_type": "code",
   "execution_count": 9,
   "id": "58e00923-bdf2-41a2-b2b3-05b7b51a3946",
   "metadata": {},
   "outputs": [
    {
     "data": {
      "text/plain": [
       "array([[0.        , 0.59761782, 0.66975521, ..., 1.        , 0.95281693,\n",
       "        0.95281693],\n",
       "       [0.59761782, 0.        , 0.72693082, ..., 1.        , 0.92170064,\n",
       "        0.92170064],\n",
       "       [0.66975521, 0.72693082, 0.        , ..., 1.        , 1.        ,\n",
       "        0.90312495],\n",
       "       ...,\n",
       "       [1.        , 1.        , 1.        , ..., 0.        , 1.        ,\n",
       "        1.        ],\n",
       "       [0.95281693, 0.92170064, 1.        , ..., 1.        , 0.        ,\n",
       "        1.        ],\n",
       "       [0.95281693, 0.92170064, 0.90312495, ..., 1.        , 1.        ,\n",
       "        0.        ]])"
      ]
     },
     "execution_count": 9,
     "metadata": {},
     "output_type": "execute_result"
    }
   ],
   "source": [
    "movie_distances"
   ]
  },
  {
   "cell_type": "code",
   "execution_count": 10,
   "id": "a5f4d4c3-8f57-4748-9700-a0a781451ebe",
   "metadata": {},
   "outputs": [],
   "source": [
    "user_similarity = 1 - user_distances\n",
    "movie_similarity = 1 - movie_distances"
   ]
  },
  {
   "cell_type": "code",
   "execution_count": 11,
   "id": "f895f363-33ca-4ec4-88ab-1bd73fc1cfab",
   "metadata": {},
   "outputs": [
    {
     "data": {
      "text/plain": [
       "array([[1.        , 0.16693098, 0.04745954, ..., 0.14861694, 0.17950788,\n",
       "        0.39817474],\n",
       "       [0.16693098, 1.        , 0.11059132, ..., 0.16148478, 0.17226781,\n",
       "        0.10579788],\n",
       "       [0.04745954, 0.11059132, 1.        , ..., 0.10124256, 0.13341615,\n",
       "        0.02655587],\n",
       "       ...,\n",
       "       [0.14861694, 0.16148478, 0.10124256, ..., 1.        , 0.1016418 ,\n",
       "        0.09511958],\n",
       "       [0.17950788, 0.17226781, 0.13341615, ..., 0.1016418 , 1.        ,\n",
       "        0.18246466],\n",
       "       [0.39817474, 0.10579788, 0.02655587, ..., 0.09511958, 0.18246466,\n",
       "        1.        ]])"
      ]
     },
     "execution_count": 11,
     "metadata": {},
     "output_type": "execute_result"
    }
   ],
   "source": [
    "user_similarity"
   ]
  },
  {
   "cell_type": "code",
   "execution_count": 12,
   "id": "74ee8223-f8e5-4e29-ad68-ca84cece840f",
   "metadata": {},
   "outputs": [
    {
     "data": {
      "text/plain": [
       "array([[1.        , 0.40238218, 0.33024479, ..., 0.        , 0.04718307,\n",
       "        0.04718307],\n",
       "       [0.40238218, 1.        , 0.27306918, ..., 0.        , 0.07829936,\n",
       "        0.07829936],\n",
       "       [0.33024479, 0.27306918, 1.        , ..., 0.        , 0.        ,\n",
       "        0.09687505],\n",
       "       ...,\n",
       "       [0.        , 0.        , 0.        , ..., 1.        , 0.        ,\n",
       "        0.        ],\n",
       "       [0.04718307, 0.07829936, 0.        , ..., 0.        , 1.        ,\n",
       "        0.        ],\n",
       "       [0.04718307, 0.07829936, 0.09687505, ..., 0.        , 0.        ,\n",
       "        1.        ]])"
      ]
     },
     "execution_count": 12,
     "metadata": {},
     "output_type": "execute_result"
    }
   ],
   "source": [
    "movie_similarity"
   ]
  },
  {
   "cell_type": "code",
   "execution_count": 13,
   "id": "643157a4-0202-47a2-9385-6721357814a3",
   "metadata": {},
   "outputs": [],
   "source": [
    "idx_to_movie = {}\n",
    "\n",
    "with open(\"u.item\", 'r', encoding=\"ISO-8859-1\") as f:\n",
    "    for line in f.readlines():\n",
    "        info = line.split('|')\n",
    "        idx_to_movie[int(info[0])-1] = info[1]\n",
    "\n",
    "movie_to_idx = {v: k for k, v in idx_to_movie.items()}"
   ]
  },
  {
   "cell_type": "code",
   "execution_count": 14,
   "id": "4f70eda7-4bbe-4917-9a3a-44fff01018ed",
   "metadata": {},
   "outputs": [
    {
     "data": {
      "text/plain": [
       "('Toy Story (1995)',\n",
       " 'GoldenEye (1995)',\n",
       " 'Four Rooms (1995)',\n",
       " 'Get Shorty (1995)')"
      ]
     },
     "execution_count": 14,
     "metadata": {},
     "output_type": "execute_result"
    }
   ],
   "source": [
    "idx_to_movie[0], idx_to_movie[1], idx_to_movie[2], idx_to_movie[3] "
   ]
  },
  {
   "cell_type": "code",
   "execution_count": 15,
   "id": "4ceb32df-4626-4722-8392-3e6ba7ac8816",
   "metadata": {},
   "outputs": [
    {
     "data": {
      "text/plain": [
       "(0, 1, 2, 3)"
      ]
     },
     "execution_count": 15,
     "metadata": {},
     "output_type": "execute_result"
    }
   ],
   "source": [
    "movie_to_idx['Toy Story (1995)'], movie_to_idx['GoldenEye (1995)'], movie_to_idx['Four Rooms (1995)'], movie_to_idx['Get Shorty (1995)'] "
   ]
  },
  {
   "cell_type": "code",
   "execution_count": 16,
   "id": "4b90071d-15ec-4d98-8832-c74881e57e58",
   "metadata": {},
   "outputs": [],
   "source": [
    "def top_k_movies(similarity, mapper, movie_idx, k=6):\n",
    "    return [mapper[x] for x in np.argsort(similarity[movie_idx,:])[:-k-2:-1]]"
   ]
  },
  {
   "cell_type": "code",
   "execution_count": 17,
   "id": "08bb5bc8-9601-4698-84c8-a4c81ba1a434",
   "metadata": {},
   "outputs": [
    {
     "data": {
      "text/plain": [
       "28"
      ]
     },
     "execution_count": 17,
     "metadata": {},
     "output_type": "execute_result"
    }
   ],
   "source": [
    "favorite_movie_name = 'Batman Forever (1995)'\n",
    "movie_index = movie_to_idx[favorite_movie_name]\n",
    "movie_index"
   ]
  },
  {
   "cell_type": "code",
   "execution_count": 18,
   "id": "0afff192-cb4a-4092-81af-4a5bdb720967",
   "metadata": {},
   "outputs": [
    {
     "data": {
      "text/plain": [
       "['Batman (1989)',\n",
       " 'Batman Returns (1992)',\n",
       " 'Cliffhanger (1993)',\n",
       " 'Demolition Man (1993)',\n",
       " 'Stargate (1994)',\n",
       " 'Net, The (1995)',\n",
       " 'Waterworld (1995)']"
      ]
     },
     "execution_count": 18,
     "metadata": {},
     "output_type": "execute_result"
    }
   ],
   "source": [
    "how_much_movie_to_show = 7\n",
    "\n",
    "movies = top_k_movies(movie_similarity, idx_to_movie, movie_index, k = how_much_movie_to_show)\n",
    "movies[1:how_much_movie_to_show + 1]"
   ]
  },
  {
   "cell_type": "code",
   "execution_count": 15,
   "id": "69f2a08c-23f4-4ddd-a04a-2011d0a74f16",
   "metadata": {},
   "outputs": [
    {
     "ename": "NameError",
     "evalue": "name 'movie_to_idx' is not defined",
     "output_type": "error",
     "traceback": [
      "\u001b[1;31m---------------------------------------------------------------------------\u001b[0m",
      "\u001b[1;31mNameError\u001b[0m                                 Traceback (most recent call last)",
      "Cell \u001b[1;32mIn[15], line 2\u001b[0m\n\u001b[0;32m      1\u001b[0m favorite_movie_name \u001b[38;5;241m=\u001b[39m \u001b[38;5;124m'\u001b[39m\u001b[38;5;124mStar Wars (1977)\u001b[39m\u001b[38;5;124m'\u001b[39m\n\u001b[1;32m----> 2\u001b[0m movie_index \u001b[38;5;241m=\u001b[39m \u001b[43mmovie_to_idx\u001b[49m[favorite_movie_name]\n\u001b[0;32m      3\u001b[0m movie_index\n",
      "\u001b[1;31mNameError\u001b[0m: name 'movie_to_idx' is not defined"
     ]
    }
   ],
   "source": [
    "favorite_movie_name = 'Star Wars (1977)'\n",
    "movie_index = movie_to_idx[favorite_movie_name]\n",
    "movie_index"
   ]
  },
  {
   "cell_type": "code",
   "execution_count": 13,
   "id": "7d564e54-29ce-466f-923f-3bb59f95724e",
   "metadata": {},
   "outputs": [
    {
     "ename": "NameError",
     "evalue": "name 'top_k_movies' is not defined",
     "output_type": "error",
     "traceback": [
      "\u001b[1;31m---------------------------------------------------------------------------\u001b[0m",
      "\u001b[1;31mNameError\u001b[0m                                 Traceback (most recent call last)",
      "Cell \u001b[1;32mIn[13], line 3\u001b[0m\n\u001b[0;32m      1\u001b[0m how_much_movie_to_show \u001b[38;5;241m=\u001b[39m \u001b[38;5;241m7\u001b[39m\n\u001b[1;32m----> 3\u001b[0m movies \u001b[38;5;241m=\u001b[39m \u001b[43mtop_k_movies\u001b[49m(movie_similarity, idx_to_movie, movie_index, k \u001b[38;5;241m=\u001b[39m how_much_movie_to_show)\n\u001b[0;32m      4\u001b[0m movies[\u001b[38;5;241m1\u001b[39m:how_much_movie_to_show \u001b[38;5;241m+\u001b[39m \u001b[38;5;241m1\u001b[39m]\n",
      "\u001b[1;31mNameError\u001b[0m: name 'top_k_movies' is not defined"
     ]
    }
   ],
   "source": [
    "how_much_movie_to_show = 7\n",
    "\n",
    "movies = top_k_movies(movie_similarity, idx_to_movie, movie_index, k = how_much_movie_to_show)\n",
    "movies[1:how_much_movie_to_show + 1]"
   ]
  },
  {
   "cell_type": "code",
   "execution_count": null,
   "id": "6678ca89-1952-461a-9353-1b2fe7a1629d",
   "metadata": {},
   "outputs": [],
   "source": []
  }
 ],
 "metadata": {
  "kernelspec": {
   "display_name": "Python 3 (ipykernel)",
   "language": "python",
   "name": "python3"
  },
  "language_info": {
   "codemirror_mode": {
    "name": "ipython",
    "version": 3
   },
   "file_extension": ".py",
   "mimetype": "text/x-python",
   "name": "python",
   "nbconvert_exporter": "python",
   "pygments_lexer": "ipython3",
   "version": "3.12.1"
  }
 },
 "nbformat": 4,
 "nbformat_minor": 5
}
